{
  "nbformat": 4,
  "nbformat_minor": 0,
  "metadata": {
    "colab": {
      "provenance": []
    },
    "kernelspec": {
      "name": "python3",
      "display_name": "Python 3"
    },
    "language_info": {
      "name": "python"
    }
  },
  "cells": [
    {
      "cell_type": "markdown",
      "source": [
        "# README:\n",
        "Upload a damaged painting to get the damage mask of the painting"
      ],
      "metadata": {
        "id": "PHff3aYQhEQ8"
      }
    },
    {
      "cell_type": "code",
      "execution_count": null,
      "metadata": {
        "id": "lk0x_XB7KCBP"
      },
      "outputs": [],
      "source": [
        "!pip install huggingface_hub tensorflow opencv-python matplotlib -q"
      ]
    },
    {
      "cell_type": "code",
      "source": [
        "import tensorflow as tf\n",
        "import cv2\n",
        "import numpy as np\n",
        "import matplotlib.pyplot as plt\n",
        "import os\n",
        "from huggingface_hub import hf_hub_download\n",
        "from google.colab import files"
      ],
      "metadata": {
        "id": "VGjNXzYIKWm_"
      },
      "execution_count": null,
      "outputs": []
    },
    {
      "cell_type": "code",
      "source": [
        "@tf.keras.utils.register_keras_serializable()\n",
        "def focal_tversky_loss(y_true, y_pred, alpha=0.7, gamma=0.75):\n",
        "    y_true = tf.cast(y_true > 0.5, tf.float32)\n",
        "\n",
        "    # Calculate Tversky components\n",
        "    tp = tf.reduce_sum(y_true * y_pred)\n",
        "    fn = tf.reduce_sum(y_true * (1 - y_pred))\n",
        "    fp = tf.reduce_sum((1 - y_true) * y_pred)\n",
        "\n",
        "    # Tversky index\n",
        "    tversky = (tp + 1e-6) / (tp + alpha * fn + (1 - alpha) * fp + 1e-6)\n",
        "\n",
        "    # Focal Tversky Loss\n",
        "    return tf.pow(1 - tversky, gamma)\n",
        "\n",
        "try:\n",
        "    model_path = hf_hub_download(\n",
        "        repo_id=\"maximiliannl/artwork-damage-detector\",\n",
        "        filename=\"model.keras\",\n",
        "        repo_type=\"model\"\n",
        "    )\n",
        "    model = tf.keras.models.load_model(\n",
        "        model_path,\n",
        "        custom_objects={'focal_tversky_loss': focal_tversky_loss},\n",
        "        compile=False\n",
        "    )\n",
        "    print(\"Model loaded successfully!\")\n",
        "except Exception as e:\n",
        "    print(f\"Failed to load model: {str(e)}\")\n",
        "    raise\n"
      ],
      "metadata": {
        "id": "DqVZbscaKasM"
      },
      "execution_count": null,
      "outputs": []
    },
    {
      "cell_type": "code",
      "source": [
        "def predict_damage(image_path, threshold=0.5):\n",
        "    try:\n",
        "        # Read image\n",
        "        img = cv2.imread(image_path)\n",
        "        if img is None:\n",
        "            raise ValueError(f\"Could not read image at {image_path}\")\n",
        "\n",
        "        # Convert color and get original size\n",
        "        img = cv2.cvtColor(img, cv2.COLOR_BGR2RGB)\n",
        "        original_size = img.shape[:2]\n",
        "\n",
        "        # Preprocess (match training)\n",
        "        processed = cv2.resize(img, (256, 256)).astype(np.float32)/255.0\n",
        "        pred = model.predict(np.expand_dims(processed, axis=0), verbose=0)[0]\n",
        "\n",
        "        # Resize prediction to original dimensions\n",
        "        pred = cv2.resize(pred.squeeze(), (original_size[1], original_size[0]))\n",
        "\n",
        "        return img, (pred > threshold).astype(np.uint8)\n",
        "\n",
        "    except Exception as e:\n",
        "        print(f\"Error processing image: {str(e)}\")\n",
        "        return None, None\n",
        "\n",
        "# Upload and Process Image\n",
        "def process_uploaded_image():\n",
        "    # Clear previous uploads\n",
        "    if os.path.exists(\"uploaded_image.jpg\"):\n",
        "        os.remove(\"uploaded_image.jpg\")\n",
        "\n",
        "    # Upload new image\n",
        "    print(\"Please upload an image file:\")\n",
        "    uploaded = files.upload()\n",
        "\n",
        "    if not uploaded:\n",
        "        print(\"No file was uploaded\")\n",
        "        return\n",
        "\n",
        "    # Get the first uploaded file\n",
        "    image_path = list(uploaded.keys())[0]\n",
        "\n",
        "    # Verify it's an image\n",
        "    if not image_path.lower().endswith(('.png', '.jpg', '.jpeg')):\n",
        "        print(\"Please upload a valid image file (JPEG/PNG)\")\n",
        "        return\n",
        "\n",
        "    # Rename for consistency\n",
        "    os.rename(image_path, \"uploaded_image.jpg\")\n",
        "\n",
        "    # Process the image\n",
        "    original, mask = predict_damage(\"uploaded_image.jpg\")\n",
        "\n",
        "    if original is not None:\n",
        "        # Display results\n",
        "        plt.figure(figsize=(16, 8))\n",
        "\n",
        "        plt.subplot(1, 2, 1)\n",
        "        plt.imshow(original)\n",
        "        plt.title(\"Original Artwork\", fontsize=12)\n",
        "        plt.axis('off')\n",
        "\n",
        "        plt.subplot(1, 2, 2)\n",
        "        plt.imshow(mask, cmap='gray')\n",
        "        plt.title(\"Detected Damage Areas\", fontsize=12)\n",
        "        plt.axis('off')\n",
        "\n",
        "        plt.tight_layout()\n",
        "        plt.show()\n",
        "\n",
        "        # Save the mask\n",
        "        cv2.imwrite(\"damage_mask.png\", mask * 255)\n",
        "        print(\"Damage mask saved as 'damage_mask.png'\")\n",
        "    else:\n",
        "        print(\"Failed to process the image\")\n",
        "\n",
        "# Run the processing\n",
        "process_uploaded_image()"
      ],
      "metadata": {
        "id": "vWcc_epwR2Df"
      },
      "execution_count": null,
      "outputs": []
    }
  ]
}